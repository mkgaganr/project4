{
 "cells": [
  {
   "cell_type": "markdown",
   "metadata": {},
   "source": [
    "# Model Based Collaborative Filtering"
   ]
  },
  {
   "cell_type": "markdown",
   "metadata": {},
   "source": [
    "Model-based recommendation systems involve building a model based on the dataset of ratings. In other words, we extract some information from the dataset, and use that as a \"model\" to make recommendations without having to use the complete dataset every time."
   ]
  },
  {
   "cell_type": "code",
   "execution_count": 1,
   "metadata": {},
   "outputs": [],
   "source": [
    "import pandas as pd\n",
    "import numpy as np\n",
    "from surprise import Reader, Dataset, KNNBasic, SVD, NMF\n",
    "from surprise.model_selection import GridSearchCV, cross_validate\n",
    "from surprise import accuracy\n",
    "from math import sqrt\n",
    "from sklearn.metrics import mean_squared_error\n",
    "from surprise.model_selection import train_test_split\n",
    "import matplotlib.pyplot as plt\n",
    "%matplotlib inline"
   ]
  },
  {
   "cell_type": "code",
   "execution_count": 2,
   "metadata": {},
   "outputs": [],
   "source": [
    "movies_df = pd.read_csv(r'C:\\Users\\P Sai Deekshith\\Recommender Systems\\ml-100k\\movies.csv')\n",
    "\n",
    "ratings_df = pd.read_csv(r'C:\\Users\\P Sai Deekshith\\Recommender Systems\\ml-100k\\ratings.csv')\n"
   ]
  },
  {
   "cell_type": "code",
   "execution_count": 3,
   "metadata": {},
   "outputs": [],
   "source": [
    "reader = Reader(rating_scale=(0.5, 5.0))\n",
    "\n",
    "data = Dataset.load_from_df( ratings_df[['userId', 'movieId', 'rating']], reader = reader )"
   ]
  },
  {
   "cell_type": "markdown",
   "metadata": {},
   "source": [
    "## K-Nearest Neighbours"
   ]
  },
  {
   "cell_type": "code",
   "execution_count": 4,
   "metadata": {},
   "outputs": [
    {
     "name": "stdout",
     "output_type": "stream",
     "text": [
      "Computing the msd similarity matrix...\n",
      "Done computing similarity matrix.\n",
      "Computing the msd similarity matrix...\n",
      "Done computing similarity matrix.\n",
      "Computing the msd similarity matrix...\n",
      "Done computing similarity matrix.\n",
      "Computing the msd similarity matrix...\n",
      "Done computing similarity matrix.\n",
      "Computing the msd similarity matrix...\n",
      "Done computing similarity matrix.\n",
      "Evaluating RMSE of algorithm KNNBasic on 5 split(s).\n",
      "\n",
      "                  Fold 1  Fold 2  Fold 3  Fold 4  Fold 5  Mean    Std     \n",
      "RMSE (testset)    0.9382  0.9397  0.9408  0.9430  0.9406  0.9404  0.0016  \n",
      "Fit time          0.54    0.42    0.52    0.45    0.50    0.49    0.05    \n",
      "Test time         3.16    3.10    2.98    2.90    3.04    3.04    0.09    \n"
     ]
    },
    {
     "data": {
      "text/plain": [
       "{'test_rmse': array([0.93817595, 0.93967687, 0.94076974, 0.94296266, 0.94057133]),\n",
       " 'fit_time': (0.5423369407653809,\n",
       "  0.42111802101135254,\n",
       "  0.5236999988555908,\n",
       "  0.4490549564361572,\n",
       "  0.5047211647033691),\n",
       " 'test_time': (3.1559829711914062,\n",
       "  3.1005027294158936,\n",
       "  2.984384059906006,\n",
       "  2.9035911560058594,\n",
       "  3.0397303104400635)}"
      ]
     },
     "execution_count": 4,
     "metadata": {},
     "output_type": "execute_result"
    }
   ],
   "source": [
    "sim_options = {'name' : 'msd'}\n",
    "\n",
    "algo = KNNBasic(k=20, sim_options=sim_options )\n",
    "cross_validate(algo=algo, data=data, measures=['RMSE'], cv=5, verbose=True)"
   ]
  },
  {
   "cell_type": "markdown",
   "metadata": {},
   "source": [
    "### Tuning the Parameters"
   ]
  },
  {
   "cell_type": "code",
   "execution_count": 5,
   "metadata": {},
   "outputs": [
    {
     "name": "stdout",
     "output_type": "stream",
     "text": [
      "Computing the msd similarity matrix...\n",
      "Done computing similarity matrix.\n",
      "Computing the msd similarity matrix...\n",
      "Done computing similarity matrix.\n",
      "Computing the msd similarity matrix...\n",
      "Done computing similarity matrix.\n",
      "Computing the msd similarity matrix...\n",
      "Done computing similarity matrix.\n",
      "Computing the msd similarity matrix...\n",
      "Done computing similarity matrix.\n",
      "Computing the msd similarity matrix...\n",
      "Done computing similarity matrix.\n",
      "Computing the msd similarity matrix...\n",
      "Done computing similarity matrix.\n",
      "Computing the msd similarity matrix...\n",
      "Done computing similarity matrix.\n",
      "Computing the msd similarity matrix...\n",
      "Done computing similarity matrix.\n",
      "Computing the msd similarity matrix...\n",
      "Done computing similarity matrix.\n",
      "Computing the msd similarity matrix...\n",
      "Done computing similarity matrix.\n",
      "Computing the msd similarity matrix...\n",
      "Done computing similarity matrix.\n",
      "Computing the msd similarity matrix...\n",
      "Done computing similarity matrix.\n",
      "Computing the msd similarity matrix...\n",
      "Done computing similarity matrix.\n",
      "Computing the msd similarity matrix...\n",
      "Done computing similarity matrix.\n"
     ]
    }
   ],
   "source": [
    "n_neighbours = [10, 20, 30]\n",
    "param_grid = {'n_neighbours' : n_neighbours}\n",
    "\n",
    "gs = GridSearchCV(KNNBasic, measures=['RMSE'], param_grid=param_grid)\n",
    "gs.fit(data)\n",
    "\n",
    "def rmseKNN():\n",
    "    print('\\n\\n###############')\n",
    "    \n",
    "    print('Best Score :', gs.best_score['rmse'])\n",
    "    \n",
    "    \n",
    "    print('Best Parameters :', gs.best_params['rmse'])\n",
    "    print('###############')\n",
    "    \n",
    "    return gs.best_score['rmse']"
   ]
  },
  {
   "cell_type": "code",
   "execution_count": 6,
   "metadata": {},
   "outputs": [
    {
     "name": "stdout",
     "output_type": "stream",
     "text": [
      "\n",
      "\n",
      "###############\n",
      "Best Score : 0.9468788455294493\n",
      "Best Parameters : {'n_neighbours': 10}\n",
      "###############\n"
     ]
    },
    {
     "data": {
      "text/plain": [
       "0.9468788455294493"
      ]
     },
     "execution_count": 6,
     "metadata": {},
     "output_type": "execute_result"
    }
   ],
   "source": [
    "rmseKNN()"
   ]
  },
  {
   "cell_type": "markdown",
   "metadata": {},
   "source": [
    "### SVD"
   ]
  },
  {
   "cell_type": "code",
   "execution_count": 7,
   "metadata": {
    "scrolled": true
   },
   "outputs": [
    {
     "name": "stdout",
     "output_type": "stream",
     "text": [
      "Evaluating RMSE of algorithm SVD on 5 split(s).\n",
      "\n",
      "                  Fold 1  Fold 2  Fold 3  Fold 4  Fold 5  Mean    Std     \n",
      "RMSE (testset)    0.8698  0.8787  0.8674  0.8748  0.8748  0.8731  0.0040  \n",
      "Fit time          9.92    9.39    10.05   9.36    9.40    9.63    0.30    \n",
      "Test time         0.48    0.40    0.40    0.25    0.36    0.38    0.07    \n"
     ]
    },
    {
     "data": {
      "text/plain": [
       "{'test_rmse': array([0.8698346 , 0.87874304, 0.86741597, 0.87480979, 0.87475223]),\n",
       " 'fit_time': (9.921858310699463,\n",
       "  9.394017696380615,\n",
       "  10.048898696899414,\n",
       "  9.364928007125854,\n",
       "  9.39711332321167),\n",
       " 'test_time': (0.48251891136169434,\n",
       "  0.40403079986572266,\n",
       "  0.4030294418334961,\n",
       "  0.2531299591064453,\n",
       "  0.3620266914367676)}"
      ]
     },
     "execution_count": 7,
     "metadata": {},
     "output_type": "execute_result"
    }
   ],
   "source": [
    "algo = SVD()\n",
    "cross_validate(algo=algo, data=data, measures=['RMSE'], cv=5, verbose=True)"
   ]
  },
  {
   "cell_type": "markdown",
   "metadata": {},
   "source": [
    "### Tuning the Parameters"
   ]
  },
  {
   "cell_type": "code",
   "execution_count": 8,
   "metadata": {},
   "outputs": [],
   "source": [
    "param_grid = {'n_factors' : [50, 75], 'lr_all' : [0.5, 0.05], 'reg_all' : [0.06, 0.04]}\n",
    "\n",
    "gs = GridSearchCV(algo_class=SVD, measures=['RMSE'], param_grid=param_grid)\n",
    "gs.fit(data)\n",
    "\n",
    "\n",
    "def rmseSVD():\n",
    "    print('\\n###############')\n",
    "    print('Best Score :', gs.best_score['rmse'])\n",
    "\n",
    "    print('Best Parameters :', gs.best_params['rmse'])\n",
    "    print('###############')\n",
    "    \n",
    "    return gs.best_score['rmse']"
   ]
  },
  {
   "cell_type": "code",
   "execution_count": 9,
   "metadata": {},
   "outputs": [
    {
     "name": "stdout",
     "output_type": "stream",
     "text": [
      "\n",
      "###############\n",
      "Best Score : 0.8630034332881612\n",
      "Best Parameters : {'n_factors': 75, 'lr_all': 0.05, 'reg_all': 0.06}\n",
      "###############\n"
     ]
    },
    {
     "data": {
      "text/plain": [
       "0.8630034332881612"
      ]
     },
     "execution_count": 9,
     "metadata": {},
     "output_type": "execute_result"
    }
   ],
   "source": [
    "rmseSVD()"
   ]
  },
  {
   "cell_type": "code",
   "execution_count": null,
   "metadata": {},
   "outputs": [],
   "source": []
  }
 ],
 "metadata": {
  "kernelspec": {
   "display_name": "Python 3",
   "language": "python",
   "name": "python3"
  },
  "language_info": {
   "codemirror_mode": {
    "name": "ipython",
    "version": 3
   },
   "file_extension": ".py",
   "mimetype": "text/x-python",
   "name": "python",
   "nbconvert_exporter": "python",
   "pygments_lexer": "ipython3",
   "version": "3.7.6"
  }
 },
 "nbformat": 4,
 "nbformat_minor": 4
}
